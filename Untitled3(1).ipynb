{
 "cells": [
  {
   "cell_type": "code",
   "execution_count": 11,
   "id": "cb46a35b-bf80-4ffc-a436-89cbd6186081",
   "metadata": {},
   "outputs": [
    {
     "name": "stdin",
     "output_type": "stream",
     "text": [
      "nama kamu siapa:  mahes dan anang\n"
     ]
    },
    {
     "name": "stdout",
     "output_type": "stream",
     "text": [
      "wah mahes dan anang\n"
     ]
    },
    {
     "name": "stdin",
     "output_type": "stream",
     "text": [
      "dari mana kamu?:  jakarta timur\n"
     ]
    },
    {
     "name": "stdout",
     "output_type": "stream",
     "text": [
      "oh kamu dari jakarta timur\n"
     ]
    },
    {
     "name": "stdin",
     "output_type": "stream",
     "text": [
      "sebelumnya kamu bersekolah dimana?:  sman 8 jakarta\n"
     ]
    },
    {
     "name": "stdout",
     "output_type": "stream",
     "text": [
      "pasti menyenangkan bersekolah di sman 8 jakarta\n"
     ]
    }
   ],
   "source": [
    "nama = input (\"nama kamu siapa: \")\n",
    "print (\"wah \"+nama)\n",
    "tempat = input (\"dari mana kamu?: \") \n",
    "print (\"oh kamu dari \"+tempat)\n",
    "sekolah= input (\"sebelumnya kamu bersekolah dimana?: \") \n",
    "print (\"pasti menyenangkan bersekolah di \"+sekolah)"
   ]
  },
  {
   "cell_type": "code",
   "execution_count": null,
   "id": "7a7c6bad-9c97-4405-b877-f6568f43edea",
   "metadata": {},
   "outputs": [],
   "source": [
    "sekolah= input (\"sebelumnya kamu bersekolah dimana?: \") \n",
    "print (\"pasti menyenangkan bersekolah di \"+tempat"
   ]
  }
 ],
 "metadata": {
  "kernelspec": {
   "display_name": "Python 3 (ipykernel)",
   "language": "python",
   "name": "python3"
  },
  "language_info": {
   "codemirror_mode": {
    "name": "ipython",
    "version": 3
   },
   "file_extension": ".py",
   "mimetype": "text/x-python",
   "name": "python",
   "nbconvert_exporter": "python",
   "pygments_lexer": "ipython3",
   "version": "3.12.4"
  }
 },
 "nbformat": 4,
 "nbformat_minor": 5
}
